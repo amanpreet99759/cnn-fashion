{
 "cells": [
  {
   "cell_type": "markdown",
   "metadata": {
    "id": "zQlfUxmWWJFf"
   },
   "source": [
    "### Fashion-MNIST is a dataset of Zalando's fashion article images —consisting of a training set of 60,000 examples and a test set of 10,000 examples. Each example is a 28x28 grayscale image, associated with a label."
   ]
  },
  {
   "cell_type": "code",
   "execution_count": 1,
   "metadata": {
    "id": "bsNb5oazWJFg"
   },
   "outputs": [],
   "source": [
    "import tensorflow as tf\n",
    "from tensorflow import keras\n",
    "from tensorflow.keras import layers, models\n",
    "from tensorflow.keras.models import load_model"
   ]
  },
  {
   "cell_type": "code",
   "execution_count": 2,
   "metadata": {
    "id": "2p9c_437WJFq"
   },
   "outputs": [],
   "source": [
    "import numpy as np\n",
    "import matplotlib.pyplot as plt"
   ]
  },
  {
   "cell_type": "markdown",
   "metadata": {
    "id": "4keF79ycWJFz"
   },
   "source": [
    "Let us get the Fashion MNIST dataset using TensorFlow Keras API as below"
   ]
  },
  {
   "cell_type": "code",
   "execution_count": null,
   "metadata": {
    "id": "jKQNUVqTWJF0",
    "outputId": "ff994aa0-802d-441c-8120-090c6250cadd"
   },
   "outputs": [
    {
     "name": "stdout",
     "output_type": "stream",
     "text": [
      "Downloading data from https://storage.googleapis.com/tensorflow/tf-keras-datasets/train-labels-idx1-ubyte.gz\n",
      "32768/29515 [=================================] - 0s 0us/step\n",
      "Downloading data from https://storage.googleapis.com/tensorflow/tf-keras-datasets/train-images-idx3-ubyte.gz\n",
      "26427392/26421880 [==============================] - 1s 0us/step\n",
      "Downloading data from https://storage.googleapis.com/tensorflow/tf-keras-datasets/t10k-labels-idx1-ubyte.gz\n",
      "8192/5148 [===============================================] - 0s 0us/step\n",
      "Downloading data from https://storage.googleapis.com/tensorflow/tf-keras-datasets/t10k-images-idx3-ubyte.gz\n",
      "4423680/4422102 [==============================] - 0s 0us/step\n"
     ]
    }
   ],
   "source": [
    "fashion_mnist = keras.datasets.fashion_mnist\n",
    "\n",
    "(train_images, train_labels), (test_images, test_labels) = fashion_mnist.load_data()"
   ]
  },
  {
   "cell_type": "code",
   "execution_count": null,
   "metadata": {
    "id": "Kw3t-2u3WJF_"
   },
   "outputs": [],
   "source": [
    "class_names = ['T-shirt/top', 'Trouser', 'Pullover', 'Dress', 'Coat', \n",
    "               'Sandal', 'Shirt', 'Sneaker', 'Bag', 'Ankle boot']"
   ]
  },
  {
   "cell_type": "code",
   "execution_count": null,
   "metadata": {
    "id": "iKHDGoUVWJGX",
    "outputId": "416d0e45-5860-4e1c-bff8-7172c0751ddd"
   },
   "outputs": [
    {
     "data": {
      "text/plain": [
       "(60000, 28, 28)"
      ]
     },
     "execution_count": 5,
     "metadata": {
      "tags": []
     },
     "output_type": "execute_result"
    }
   ],
   "source": [
    "train_images.shape"
   ]
  },
  {
   "cell_type": "code",
   "execution_count": null,
   "metadata": {
    "id": "HvlibfD9WJGi",
    "outputId": "7a967d2d-52d0-45eb-ad6e-815299fe989c"
   },
   "outputs": [
    {
     "data": {
      "text/plain": [
       "(10000, 28, 28, 1)"
      ]
     },
     "execution_count": 21,
     "metadata": {
      "tags": []
     },
     "output_type": "execute_result"
    }
   ],
   "source": [
    "test_images.shape"
   ]
  },
  {
   "cell_type": "markdown",
   "metadata": {
    "id": "IPc57CiNWJGm"
   },
   "source": [
    "Thus we see that training dataset has 60000 images (rows) each of size (28,28) or 28x28 i.e. 2-D images, and each pixel is a value from 0 to 255 describing the pixel intensity. 0 for black and 255 for white.\n",
    "\n",
    "Since a convolutional layer takes a 2-D image (2-D array) as input, we needn't convert \n",
    "these 2-D images to a 1-D arrays \n",
    "\n",
    "If we had to feed these 2-D images to a DNN (hidden layer), which expects a 1-D array as input, we would\n",
    "have to convert these 2-D iamges to 1-D arrays before feeding to hidden layer (DNN)"
   ]
  },
  {
   "cell_type": "code",
   "execution_count": null,
   "metadata": {
    "id": "UbPr_YMRWJGp",
    "outputId": "f379fb06-84d1-42c5-a278-2564aad8dc66"
   },
   "outputs": [
    {
     "data": {
      "text/plain": [
       "(60000,)"
      ]
     },
     "execution_count": 5,
     "metadata": {
      "tags": []
     },
     "output_type": "execute_result"
    }
   ],
   "source": [
    "train_labels.shape"
   ]
  },
  {
   "cell_type": "code",
   "execution_count": null,
   "metadata": {
    "id": "2iEtdK-tWJGv",
    "outputId": "036f8546-b459-424b-bbc8-3ebe77207ba8"
   },
   "outputs": [
    {
     "data": {
      "text/plain": [
       "(10000, 28, 28)"
      ]
     },
     "execution_count": 6,
     "metadata": {
      "tags": []
     },
     "output_type": "execute_result"
    }
   ],
   "source": [
    "test_images.shape"
   ]
  },
  {
   "cell_type": "code",
   "execution_count": null,
   "metadata": {
    "id": "Fo22Y2L8WJG5",
    "outputId": "079f7ab7-591e-4e60-cec9-b68d14ead17f"
   },
   "outputs": [
    {
     "data": {
      "text/plain": [
       "(10000,)"
      ]
     },
     "execution_count": 7,
     "metadata": {
      "tags": []
     },
     "output_type": "execute_result"
    }
   ],
   "source": [
    "test_labels.shape"
   ]
  },
  {
   "cell_type": "markdown",
   "metadata": {
    "id": "nya-MB9uWJG9"
   },
   "source": [
    "The class labels for Fashion MNIST are:\n",
    "<br>\n",
    "<br>\n",
    "<b>Label</b> &nbsp;  <b>Description</b>\n",
    "<br>\n",
    "0   &nbsp;&nbsp;&nbsp;&nbsp;&nbsp;&nbsp;&nbsp;   T-shirt/top\n",
    "<br>\n",
    "1   &nbsp;&nbsp;&nbsp;&nbsp;&nbsp;&nbsp;&nbsp;   Trouser\n",
    "<br>\n",
    "2   &nbsp;&nbsp;&nbsp;&nbsp;&nbsp;&nbsp;&nbsp;   Pullover\n",
    "<br>\n",
    "3   &nbsp;&nbsp;&nbsp;&nbsp;&nbsp;&nbsp;&nbsp;   Dress\n",
    "<br>\n",
    "4   &nbsp;&nbsp;&nbsp;&nbsp;&nbsp;&nbsp;&nbsp;   Coat\n",
    "<br>\n",
    "5   &nbsp;&nbsp;&nbsp;&nbsp;&nbsp;&nbsp;&nbsp;   Sandal\n",
    "<br>\n",
    "6   &nbsp;&nbsp;&nbsp;&nbsp;&nbsp;&nbsp;&nbsp;   Shirt\n",
    "<br>\n",
    "7   &nbsp;&nbsp;&nbsp;&nbsp;&nbsp;&nbsp;&nbsp;   Sneaker\n",
    "<br>\n",
    "8   &nbsp;&nbsp;&nbsp;&nbsp;&nbsp;&nbsp;&nbsp;   Bag\n",
    "<br>\n",
    "9   &nbsp;&nbsp;&nbsp;&nbsp;&nbsp;&nbsp;&nbsp;   Ankle boot\n",
    "<br>"
   ]
  },
  {
   "cell_type": "markdown",
   "metadata": {
    "id": "Fbc8cTAaWJG-"
   },
   "source": [
    "Now, let us view one of the images (at index/instance no. 220) of Fashion MNIST Training dataset, how it looks"
   ]
  },
  {
   "cell_type": "code",
   "execution_count": null,
   "metadata": {
    "id": "Vx8Eq8zPWJG-",
    "outputId": "294be8a1-f40d-4782-fb33-707b3efe47bc"
   },
   "outputs": [
    {
     "data": {
      "text/plain": [
       "<matplotlib.image.AxesImage at 0x7f097a6077d0>"
      ]
     },
     "execution_count": 6,
     "metadata": {
      "tags": []
     },
     "output_type": "execute_result"
    },
    {
     "data": {
      "image/png": "[encoded data removed]",
      "text/plain": [
       "<Figure size 432x288 with 1 Axes>"
      ]
     },
     "metadata": {
      "needs_background": "light",
      "tags": []
     },
     "output_type": "display_data"
    }
   ],
   "source": [
    "plt.figure()\n",
    "plt.imshow(np.squeeze(train_images[20]))"
   ]
  },
  {
   "cell_type": "code",
   "execution_count": null,
   "metadata": {
    "id": "X1bAXCUDWJHE",
    "outputId": "04f74c49-aabe-40cb-bc53-2a1bc9888a2e"
   },
   "outputs": [
    {
     "data": {
      "text/plain": [
       "3"
      ]
     },
     "execution_count": 7,
     "metadata": {
      "tags": []
     },
     "output_type": "execute_result"
    }
   ],
   "source": [
    "train_labels[20]"
   ]
  },
  {
   "cell_type": "markdown",
   "metadata": {
    "id": "Rl_vdTvlWJHM"
   },
   "source": [
    "So, we see that image at index (instance no.) 220 is a bag, and the corresponding label value also indicates the same (8 - Bag)."
   ]
  },
  {
   "cell_type": "code",
   "execution_count": null,
   "metadata": {
    "id": "eHTrVbQ3WJHN",
    "outputId": "a5b69897-3df3-425e-f045-29c6c1533d4c"
   },
   "outputs": [
    {
     "data": {
      "image/png": "[encoded data removed]",
      "text/plain": [
       "<Figure size 720x720 with 15 Axes>"
      ]
     },
     "metadata": {
      "tags": []
     },
     "output_type": "display_data"
    }
   ],
   "source": [
    "# Let us plot some training images to see how they look\n",
    "plt.figure(figsize=(10,10))\n",
    "for i in range(15):\n",
    "    plt.subplot(5,5,i+1)\n",
    "    plt.xticks([])\n",
    "    plt.yticks([])\n",
    "    plt.imshow(train_images[i], cmap=plt.cm.binary)\n",
    "    plt.xlabel(class_names[train_labels[i]])   \n",
    "plt.show()"
   ]
  },
  {
   "cell_type": "markdown",
   "metadata": {
    "id": "b_r9bpOpWJHX"
   },
   "source": [
    "Now, since, we have one more dimension for the images i.e. Channels (color), let us add it to the dimensions of train_images and test_images by using reshape() function. In this case, it is a single color (hence, channels=1) i.e. 'grayscale'."
   ]
  },
  {
   "cell_type": "code",
   "execution_count": null,
   "metadata": {
    "id": "A8ZiW4DnWJHY"
   },
   "outputs": [],
   "source": [
    "train_images = train_images.reshape((60000, 28, 28, 1))\n",
    "test_images = test_images.reshape((10000, 28, 28, 1))"
   ]
  },
  {
   "cell_type": "markdown",
   "metadata": {
    "id": "W0cPbgPUWJHu"
   },
   "source": [
    "The pixel values for the images lie between 0 to 255 now, which is a large range. \n",
    "\n",
    "Let us normalize these values to a range from 0 to 1. To do this, we can simply divide each pixel value with 255"
   ]
  },
  {
   "cell_type": "code",
   "execution_count": null,
   "metadata": {
    "id": "xpxYjnOpWJHy"
   },
   "outputs": [],
   "source": [
    "train_images_norm = train_images / 255.0"
   ]
  },
  {
   "cell_type": "code",
   "execution_count": null,
   "metadata": {
    "id": "W4JWPKjfWJH3"
   },
   "outputs": [],
   "source": [
    "test_images_norm = test_images / 255.0"
   ]
  },
  {
   "cell_type": "markdown",
   "metadata": {
    "id": "aN4qTfykWJH-"
   },
   "source": [
    "Let us now create convolutional layers for our CNN model"
   ]
  },
  {
   "cell_type": "code",
   "execution_count": null,
   "metadata": {
    "id": "HFLDNB6EWJH_"
   },
   "outputs": [],
   "source": [
    "# First convolutional layer. \n",
    "# Number of filters = 32\n",
    "# filter(kernel) size = 3x3\n",
    "# Activation function = Relu\n",
    "# input data (images) size (height, width, channels) = (28, 28, 1)\n",
    "# Channels is 'colors' here. Since fashion MNIST images are grayscale, number of colors = 1, hence, channels = 1\n",
    "\n",
    "conv1 = layers.Conv2D(32, (3,3), activation='relu', input_shape=(28,28,1), padding='same' )\n"
   ]
  },
  {
   "cell_type": "code",
   "execution_count": null,
   "metadata": {
    "id": "GMNJOXpPWJID"
   },
   "outputs": [],
   "source": [
    "# Second convolutional layer. \n",
    "# Number of filters = 64\n",
    "# filter(kernel) size = 3x3\n",
    "# Activation function = Relu\n",
    "# No separate input data for this layer, input to this layer are the 'weights' of the conv1 layer featureMaps\n",
    "# no need to specify explicitly the input to the other convolutional layers (except for the first layer, as above)\n",
    "\n",
    "conv2 = layers.Conv2D(64, (3,3), activation='relu')\n"
   ]
  },
  {
   "cell_type": "code",
   "execution_count": null,
   "metadata": {
    "id": "4a23TJGIWJII"
   },
   "outputs": [],
   "source": []
  },
  {
   "cell_type": "code",
   "execution_count": null,
   "metadata": {
    "id": "iLe5P3o1WJIN"
   },
   "outputs": [],
   "source": [
    "# Second convolutional layer. \n",
    "# Number of filters = 128\n",
    "# filter(kernel) size = 3x3\n",
    "# Activation function = Relu\n",
    "# No separate input data for this layer, input to this layer are the 'weights' of the conv2 layer featureMaps\n",
    "# no need to specify explicitly the input to the other convolutional layers (except for the first layer, as above)\n",
    "\n",
    "conv3 = layers.Conv2D(128, (3,3), activation='relu')\n"
   ]
  },
  {
   "cell_type": "markdown",
   "metadata": {
    "id": "uGRrtdBpWJIS"
   },
   "source": [
    "Let us create a Max Pooing Layer"
   ]
  },
  {
   "cell_type": "code",
   "execution_count": null,
   "metadata": {
    "id": "NeWlWtEPWJIT"
   },
   "outputs": [],
   "source": [
    "# Max Pool Layer\n",
    "# Since input to CNN is a 2-D image and ouput from last convolutional layer (featuerMap) is also 2-D array \n",
    "# (except the third dimension i.e. channels), we will use 2D version of Max Pooling function of TensorFlow Keras\n",
    "# to create a Max Pooling Layer, as shown below filter (kernel) size for Pooling Layer = 2x2\n",
    "\n",
    "#Creating first Max. Pooling Layer\n",
    "max_pool_1 = layers.MaxPooling2D((2,2))\n",
    "\n",
    "#Creating second Max. Pooling Layer\n",
    "max_pool_2 = layers.MaxPooling2D((2,2))\n",
    "\n",
    "#Creating third Max. Pooling Layer\n",
    "max_pool_3 = layers.MaxPooling2D((2,2))\n"
   ]
  },
  {
   "cell_type": "markdown",
   "metadata": {
    "id": "flFyL-hFWJIW"
   },
   "source": [
    "Let us create a Fully Connected Layer (Hidden Layer) and an Output Layer to perform Classification"
   ]
  },
  {
   "cell_type": "code",
   "execution_count": null,
   "metadata": {
    "id": "wFKQ0-Z0WJIW"
   },
   "outputs": [],
   "source": [
    "# Fully Connected (FC) Layer i.e. hidden layer expects input in 1-D format (1-D array), hence, we need to convert\n",
    "# 2-D output (2-D array) of last convolutional layer (conv3) to 1-D array i.e. we need to flatten the 2-D array\n",
    "# to 1-D array\n",
    "\n",
    "flat_layer = layers.Flatten()\n"
   ]
  },
  {
   "cell_type": "code",
   "execution_count": null,
   "metadata": {
    "id": "lyhuY9OvWJIY"
   },
   "outputs": [],
   "source": [
    "# Fully Connected (FC) Layer - Hidden(Dense) Layer\n",
    "# Normally, the number of neurons that we keep in FC layer should be equal to the number of neurons in just\n",
    "# immediate previous convolutional layer\n",
    "\n",
    "fc = layers.Dense(128, activation='relu')\n"
   ]
  },
  {
   "cell_type": "code",
   "execution_count": null,
   "metadata": {
    "id": "wcQgoAaaWJIk"
   },
   "outputs": [],
   "source": [
    "# Output Layer - with 10 neurons (as we have 10 output classes) and using 'softmax' function\n",
    "\n",
    "output = layers.Dense(10, 'softmax')\n"
   ]
  },
  {
   "cell_type": "markdown",
   "metadata": {
    "id": "sDMYm6dMWJIw"
   },
   "source": [
    "Let us now create the model (CNN model) structure using the above defined layers"
   ]
  },
  {
   "cell_type": "code",
   "execution_count": null,
   "metadata": {
    "id": "0XelUmJ6WJI0"
   },
   "outputs": [],
   "source": [
    "# TensorFlow Keras uses Keras Sequential API\n",
    "\n",
    "model = models.Sequential()\n",
    "\n",
    "model.add(conv1)\n",
    "model.add(conv2)\n",
    "model.add(conv3)\n",
    "model.add(max_pool_1)\n",
    "model.add(flat_layer)\n",
    "model.add(fc)\n",
    "model.add(output)\n"
   ]
  },
  {
   "cell_type": "code",
   "execution_count": null,
   "metadata": {
    "id": "sv-hPz4QWJI6",
    "outputId": "4b3478ed-1648-44ee-98e8-0e20cc46f9a7"
   },
   "outputs": [
    {
     "name": "stdout",
     "output_type": "stream",
     "text": [
      "Model: \"sequential\"\n",
      "_________________________________________________________________\n",
      "Layer (type)                 Output Shape              Param #   \n",
      "=================================================================\n",
      "conv2d (Conv2D)              (None, 26, 26, 32)        320       \n",
      "_________________________________________________________________\n",
      "conv2d_1 (Conv2D)            (None, 24, 24, 64)        18496     \n",
      "_________________________________________________________________\n",
      "conv2d_2 (Conv2D)            (None, 22, 22, 128)       73856     \n",
      "_________________________________________________________________\n",
      "max_pooling2d (MaxPooling2D) (None, 11, 11, 128)       0         \n",
      "_________________________________________________________________\n",
      "flatten (Flatten)            (None, 15488)             0         \n",
      "_________________________________________________________________\n",
      "dense (Dense)                (None, 128)               1982592   \n",
      "_________________________________________________________________\n",
      "dense_1 (Dense)              (None, 10)                1290      \n",
      "=================================================================\n",
      "Total params: 2,076,554\n",
      "Trainable params: 2,076,554\n",
      "Non-trainable params: 0\n",
      "_________________________________________________________________\n"
     ]
    }
   ],
   "source": [
    "# Let us see what all layers our model has\n",
    "\n",
    "model.summary()\n"
   ]
  },
  {
   "cell_type": "markdown",
   "metadata": {
    "id": "bHggafJEWJJF"
   },
   "source": [
    "Let us now specify the optimizer(adam), loss function(crossentropy) and metrics(accuracy) for this model\n",
    "\n",
    "NOTE: Use sparse categorical crossentropy when your classes are mutually exclusive (e.g. when each sample belongs exactly to one class) and categorical crossentropy when one sample can have multiple classes or labels are soft probabilities (like [0.5, 0.3, 0.2])."
   ]
  },
  {
   "cell_type": "code",
   "execution_count": null,
   "metadata": {
    "id": "K0ZeiKIGWJJG"
   },
   "outputs": [],
   "source": [
    "model.compile(optimizer='adam',\n",
    "              loss='sparse_categorical_crossentropy',\n",
    "              metrics=['accuracy'])"
   ]
  },
  {
   "cell_type": "code",
   "execution_count": null,
   "metadata": {
    "id": "57zhRfgpWJJJ"
   },
   "outputs": [],
   "source": [
    "train_images_500 = train_images_norm[:500] #  Total - 600000\n",
    "train_labels_500 = train_labels[:500]\n",
    "\n",
    "test_images_200 = test_images_norm[:200] # total --- 10000\n",
    "test_labels_200 = test_labels[:200]"
   ]
  },
  {
   "cell_type": "markdown",
   "metadata": {
    "id": "f2y9F4DUWJJZ"
   },
   "source": [
    "Now let us train the model and also perform the cross validation and hyperparameter tuning. Passing validation_split parameter to fit() method ensures that cross validation and hyperparameter tuning also happens during the training."
   ]
  },
  {
   "cell_type": "code",
   "execution_count": null,
   "metadata": {
    "id": "z7gswIIIWJJa",
    "outputId": "fdb2ce07-c421-4308-cc31-90cbf8c955a3"
   },
   "outputs": [
    {
     "name": "stdout",
     "output_type": "stream",
     "text": [
      "Train on 450 samples, validate on 50 samples\n",
      "Epoch 1/15\n",
      "450/450 [==============================] - 2s 4ms/sample - loss: 0.4869 - accuracy: 0.8333 - val_loss: 0.5772 - val_accuracy: 0.7600\n",
      "Epoch 2/15\n",
      "450/450 [==============================] - 2s 4ms/sample - loss: 0.3847 - accuracy: 0.8644 - val_loss: 0.5590 - val_accuracy: 0.8200\n",
      "Epoch 3/15\n",
      "450/450 [==============================] - 2s 4ms/sample - loss: 0.3123 - accuracy: 0.8978 - val_loss: 0.6210 - val_accuracy: 0.7600\n",
      "Epoch 4/15\n",
      "450/450 [==============================] - 2s 4ms/sample - loss: 0.2425 - accuracy: 0.9222 - val_loss: 0.5844 - val_accuracy: 0.7800\n",
      "Epoch 5/15\n",
      "450/450 [==============================] - 2s 4ms/sample - loss: 0.1646 - accuracy: 0.9467 - val_loss: 0.6378 - val_accuracy: 0.7800\n",
      "Epoch 6/15\n",
      "450/450 [==============================] - 2s 4ms/sample - loss: 0.1091 - accuracy: 0.9667 - val_loss: 0.7318 - val_accuracy: 0.7600\n",
      "Epoch 7/15\n",
      "450/450 [==============================] - 2s 4ms/sample - loss: 0.1597 - accuracy: 0.9444 - val_loss: 0.7372 - val_accuracy: 0.7800\n",
      "Epoch 8/15\n",
      "450/450 [==============================] - 2s 4ms/sample - loss: 0.1275 - accuracy: 0.9533 - val_loss: 0.8144 - val_accuracy: 0.7800\n",
      "Epoch 9/15\n",
      "450/450 [==============================] - 2s 4ms/sample - loss: 0.0519 - accuracy: 0.9844 - val_loss: 0.8293 - val_accuracy: 0.8000\n",
      "Epoch 10/15\n",
      "450/450 [==============================] - 2s 5ms/sample - loss: 0.0292 - accuracy: 0.9889 - val_loss: 0.8779 - val_accuracy: 0.7600\n",
      "Epoch 11/15\n",
      "450/450 [==============================] - 2s 4ms/sample - loss: 0.0185 - accuracy: 1.0000 - val_loss: 1.1563 - val_accuracy: 0.7600\n",
      "Epoch 12/15\n",
      "450/450 [==============================] - 2s 4ms/sample - loss: 0.0194 - accuracy: 0.9933 - val_loss: 0.8053 - val_accuracy: 0.8000\n",
      "Epoch 13/15\n",
      "450/450 [==============================] - 2s 4ms/sample - loss: 0.0137 - accuracy: 0.9978 - val_loss: 0.9405 - val_accuracy: 0.8200\n",
      "Epoch 14/15\n",
      "450/450 [==============================] - 2s 4ms/sample - loss: 0.0074 - accuracy: 1.0000 - val_loss: 0.9291 - val_accuracy: 0.8200\n",
      "Epoch 15/15\n",
      "450/450 [==============================] - 2s 5ms/sample - loss: 0.0028 - accuracy: 1.0000 - val_loss: 1.0056 - val_accuracy: 0.8000\n"
     ]
    },
    {
     "data": {
      "text/plain": [
       "<tensorflow.python.keras.callbacks.History at 0x7f08f230c210>"
      ]
     },
     "execution_count": 25,
     "metadata": {
      "tags": []
     },
     "output_type": "execute_result"
    }
   ],
   "source": [
    "# we are using the normalized input data\n",
    "\n",
    "# Let us perform 20 epochs with batch_size as 512, and with shuffling = true \n",
    "\n",
    "# shuffle=true will shuffle the indexes of the instances in order to allocate different sets of instances \n",
    "# in validation dataset each time cross-validation runs\n",
    "\n",
    "# validation split=0.1 means a validation dataset of size of 10% is created from the training dataset for cross validation = 50\n",
    "\n",
    "model.fit(train_images_500, train_labels_500, epochs=15, batch_size=50, shuffle=True, validation_split=0.1) "
   ]
  },
  {
   "cell_type": "markdown",
   "metadata": {
    "id": "Mjle4ZY3WJJn"
   },
   "source": [
    "Let us now make predictions on Test dataset using the above trained model"
   ]
  },
  {
   "cell_type": "code",
   "execution_count": null,
   "metadata": {
    "id": "q0C4Qz7IWJJp",
    "outputId": "e8550978-51c0-4abc-cde7-35db5fa99c95"
   },
   "outputs": [
    {
     "name": "stdout",
     "output_type": "stream",
     "text": [
      "200/200 [==============================] - 0s 1ms/sample - loss: 252.6938 - accuracy: 0.8100\n"
     ]
    }
   ],
   "source": [
    "# we are using the normalized input data\n",
    "test_loss, test_accuracy = model.evaluate(test_images_200, test_labels_200)"
   ]
  },
  {
   "cell_type": "code",
   "execution_count": null,
   "metadata": {
    "id": "YG_wpKrVWJJv",
    "outputId": "687463bc-a312-436a-a89f-616f31445ed7"
   },
   "outputs": [
    {
     "name": "stdout",
     "output_type": "stream",
     "text": [
      "0.81\n"
     ]
    }
   ],
   "source": [
    "print(test_accuracy)"
   ]
  },
  {
   "cell_type": "code",
   "execution_count": null,
   "metadata": {
    "id": "cvWKGOnqWJJ3",
    "outputId": "d45488e1-587b-4091-e5c2-2496e90ec778"
   },
   "outputs": [
    {
     "data": {
      "text/plain": [
       "9"
      ]
     },
     "execution_count": 32,
     "metadata": {
      "tags": []
     },
     "output_type": "execute_result"
    }
   ],
   "source": [
    "model.predict(test_images_200[0:1]).argmax()"
   ]
  },
  {
   "cell_type": "code",
   "execution_count": null,
   "metadata": {
    "id": "ThjofvPgWJKC",
    "outputId": "0dec645b-3e7b-4c68-a382-0ff223c43d89"
   },
   "outputs": [
    {
     "data": {
      "text/plain": [
       "<matplotlib.image.AxesImage at 0x7f091879a090>"
      ]
     },
     "execution_count": 35,
     "metadata": {
      "tags": []
     },
     "output_type": "execute_result"
    },
    {
     "data": {
      "image/png": "[encoded data removed]",
      "text/plain": [
       "<Figure size 432x288 with 1 Axes>"
      ]
     },
     "metadata": {
      "needs_background": "light",
      "tags": []
     },
     "output_type": "display_data"
    }
   ],
   "source": [
    "plt.figure()\n",
    "plt.imshow(np.squeeze(test_images_200[0]))"
   ]
  },
  {
   "cell_type": "markdown",
   "metadata": {
    "id": "C3i_akdMWJKH"
   },
   "source": [
    "when the model is overfitting \n",
    "\n",
    "Deep learning models generally tend to be perform well on the Training data, but not on the Test data (Overfitting).\n",
    "\n",
    "The simplest way to prevent overfitting is to reduce the size of the model, i.e. the number of learnable parameters (number of layers and the number of neurons per layer). Second option to remove overfitting is to use Regularization techniques like - L1, L2, Dropout.\n",
    "\n",
    "If the neural network has less number of layers and neurons per layer, it may not perform well even on the Training dataset i.e. may lead to Underfitting issue. \n",
    "And if neural network has more number of layers and neurons per layer, it may perform very well (high accuracy) on the Training dataset, but may not perform well on Test dataset i.e. may lead to Overfitting issue. \n",
    "\n",
    "Unfortunately, there is no definite formula to determine the right architecture of your model (number of layers, number of neurons in each layer). You will have to find the right(optimum) architecture by trial and error (experimentation) method only.\n",
    "\n",
    "Though, for neural networks, we have other regularization techniques like L1, L2 regularization, <b>Dropout is the most effective of all and most commonly used regularization technique </b>.\n",
    "\n",
    "Dropout, when applied to a layer, involves of randomly \"dropping out\" (i.e. set to zero) a number of output features (neurons) of the layer. Let's say output of a layer before applying Dropout was [05, 0.8, 2.2, 0.9, 0.1], after applying dropout, the output will be [0, 0.8. 2.2, 0, 0.1].\n",
    "\n",
    "The \"dropout rate\" is the fraction of the features(neurons) that are being zeroed-out in the layer. Generally the value of dropout rate is kept between 0.2 and 0.5. \n",
    "\n",
    "Please note that, <b>Dropout is applied only during the Training phase</b>, and TensorFlow Keras API (evaluate() method) takes care of it internally, we don't need to remove the Dropout layer explicitly(manually) from the model at the time of prediction on the Test dataset.</b>\n",
    "\n",
    "In the Test phase, Dropout is not applied, instead the layer's output values are reduced by a factor equal to the dropout rate, so as to give a feeling that during Test phase also almost same number of neurons are active there were during the Training phase.\n",
    "\n",
    "Hence, to remove Overfitting issue in our case here, let us apply the regularization technique - Dropout.\n",
    "\n"
   ]
  },
  {
   "cell_type": "markdown",
   "metadata": {
    "id": "VBg2Xm2AWJKI"
   },
   "source": [
    "To implement the Dropout using TensorFlow Keras, we create a Dropout layer, and place this Dropout layer immediately after the layer to which this Dropout needs to be applied to.\n",
    "\n",
    "\n",
    "##### <b>Please note that the Dropout layer for all the convolutional layers will be applied after the pooling layer (max. pool layer)</b>\n",
    "\n",
    "\n",
    "<b>NOTE:If there is a Pooling layer after a convolutional layer, the dropout layer is applied after the pooling layer</b> (not just after the convolutional layer, i.e. between the convolutional layer and the pooling layer)"
   ]
  },
  {
   "cell_type": "markdown",
   "metadata": {
    "id": "USuiCOXqWJKI"
   },
   "source": [
    "#### NOTE: Use sparse categorical crossentropy when your classes are mutually exclusive (e.g. when each sample belongs exactly to one class) and categorical crossentropy when one sample can have multiple classes or labels are soft probabilities (like [0.5, 0.3, 0.2])."
   ]
  },
  {
   "cell_type": "code",
   "execution_count": null,
   "metadata": {
    "id": "D6SIsLSVWJKJ",
    "outputId": "afed3558-9676-480a-f257-b1d1869f2679"
   },
   "outputs": [
    {
     "data": {
      "image/png": "[encoded data removed]",
      "text/plain": [
       "<Figure size 432x288 with 1 Axes>"
      ]
     },
     "metadata": {
      "needs_background": "light",
      "tags": []
     },
     "output_type": "display_data"
    }
   ],
   "source": [
    "plt.plot(model.history.history['accuracy'])\n",
    "plt.plot(model.history.history['val_accuracy'])\n",
    "plt.title(\"Accuracy\")\n",
    "plt.ylabel(\"accuracy\")\n",
    "plt.xlabel(\"epoch\")\n",
    "plt.legend(['train', 'test'], loc='upper left')\n",
    "plt.show()"
   ]
  },
  {
   "cell_type": "code",
   "execution_count": null,
   "metadata": {
    "id": "Gb-DQvvrWJKN"
   },
   "outputs": [],
   "source": []
  }
 ],
 "metadata": {
  "colab": {
   "name": "CNN_FASHION.ipynb",
   "provenance": []
  },
  "kernelspec": {
   "display_name": "Python 3",
   "language": "python",
   "name": "python3"
  },
  "language_info": {
   "codemirror_mode": {
    "name": "ipython",
    "version": 3
   },
   "file_extension": ".py",
   "mimetype": "text/x-python",
   "name": "python",
   "nbconvert_exporter": "python",
   "pygments_lexer": "ipython3",
   "version": "3.8.3"
  },
  "toc": {
   "base_numbering": 1,
   "nav_menu": {},
   "number_sections": true,
   "sideBar": true,
   "skip_h1_title": false,
   "title_cell": "Table of Contents",
   "title_sidebar": "Contents",
   "toc_cell": false,
   "toc_position": {},
   "toc_section_display": true,
   "toc_window_display": false
  }
 },
 "nbformat": 4,
 "nbformat_minor": 1
}
